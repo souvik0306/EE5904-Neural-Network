{
 "cells": [
  {
   "cell_type": "code",
   "execution_count": 1,
   "metadata": {},
   "outputs": [
    {
     "name": "stdout",
     "output_type": "stream",
     "text": [
      "True\n",
      "True\n"
     ]
    }
   ],
   "source": [
    "import torch\n",
    "print(torch.backends.mps.is_available())  # Should return True\n",
    "print(torch.backends.mps.is_built())  # Should return True"
   ]
  },
  {
   "cell_type": "code",
   "execution_count": null,
   "metadata": {},
   "outputs": [
    {
     "name": "stdout",
     "output_type": "stream",
     "text": [
      "X_train shape: torch.Size([900, 1024]), Y_train shape: torch.Size([900, 1])\n",
      "X_val shape: torch.Size([100, 1024]), Y_val shape: torch.Size([100, 1])\n"
     ]
    }
   ],
   "source": [
    "import torch.nn as nn\n",
    "import torch.optim as optim\n",
    "import numpy as np\n",
    "import cv2\n",
    "import os\n",
    "from torch.utils.data import DataLoader, TensorDataset\n",
    "\n",
    "def load_images(folder_path, label):\n",
    "    images, labels = [], []\n",
    "    for i in range(500):  # 500 images per folder\n",
    "        img_path = os.path.join(folder_path, f\"{i:03d}.jpg\")\n",
    "        img = cv2.imread(img_path, cv2.IMREAD_GRAYSCALE)  # Convert to grayscale\n",
    "        img = img.flatten() / 255.0  # Normalize and flatten to 1024\n",
    "        images.append(img)\n",
    "        labels.append(label)\n",
    "    return np.array(images), np.array(labels)\n",
    "\n",
    "# Load datasets\n",
    "animal_images, animal_labels = load_images(r\"group_1/dog\", label=1)\n",
    "object_images, object_labels = load_images(r\"group_1/automobile\", label=0)\n",
    "\n",
    "# Combine datasets\n",
    "X = np.vstack((animal_images, object_images))\n",
    "Y = np.hstack((animal_labels, object_labels))\n",
    "\n",
    "# Shuffle the dataset randomly\n",
    "indices = np.arange(X.shape[0])\n",
    "np.random.shuffle(indices)\n",
    "X, Y = X[indices], Y[indices]\n",
    "\n",
    "# Compute global mean and variance\n",
    "global_mean = np.mean(X, axis=0)\n",
    "global_variance = np.var(X, axis=0)\n",
    "\n",
    "# Normalize dataset\n",
    "X_normalized = (X - global_mean) / (np.sqrt(global_variance) + 1e-8)\n",
    "\n",
    "# Ensure correct shape for input tensors\n",
    "X_train = torch.tensor(X_normalized[:900], dtype=torch.float32)\n",
    "Y_train = torch.tensor(Y[:900], dtype=torch.float32).unsqueeze(1)  # Add extra dimension\n",
    "\n",
    "X_val = torch.tensor(X_normalized[900:], dtype=torch.float32)\n",
    "Y_val = torch.tensor(Y[900:], dtype=torch.float32).unsqueeze(1)  # Add extra dimension\n",
    "\n",
    "# Ensure shapes match\n",
    "print(f\"X_train shape: {X_train.shape}, Y_train shape: {Y_train.shape}\")\n",
    "print(f\"X_val shape: {X_val.shape}, Y_val shape: {Y_val.shape}\")\n",
    "\n",
    "# Create DataLoaders for batch processing\n",
    "batch_size = 16\n",
    "train_loader = DataLoader(TensorDataset(X_train, Y_train), batch_size=batch_size, shuffle=True)\n",
    "val_loader = DataLoader(TensorDataset(X_val, Y_val), batch_size=batch_size, shuffle=False)\n",
    "\n",
    "# -------------------------------\n",
    "# Step 2: Define MLP Model\n",
    "# -------------------------------\n",
    "class MLP(nn.Module):\n",
    "    def __init__(self, input_size=1024, hidden_size1=256, hidden_size2=128, hidden_size3=64):\n",
    "        super(MLP, self).__init__()\n",
    "        self.hidden1 = nn.Linear(input_size, hidden_size1)\n",
    "        self.hidden2 = nn.Linear(hidden_size1, hidden_size2)\n",
    "        self.hidden3 = nn.Linear(hidden_size2, hidden_size3)\n",
    "        self.output = nn.Linear(hidden_size3, 1)\n",
    "        self.relu = nn.ReLU()\n",
    "        self.sigmoid = nn.Sigmoid()\n",
    "\n",
    "    def forward(self, x):\n",
    "        x = self.relu(self.hidden1(x))\n",
    "        x = self.relu(self.hidden2(x))\n",
    "        x = self.relu(self.hidden3(x))\n",
    "        x = self.sigmoid(self.output(x))\n",
    "        return x"
   ]
  },
  {
   "cell_type": "code",
   "execution_count": 4,
   "metadata": {},
   "outputs": [],
   "source": [
    "device = torch.device(\"mps\" if torch.backends.mps.is_available() else \"cpu\")\n",
    "model = MLP().to(device)"
   ]
  },
  {
   "cell_type": "code",
   "execution_count": 6,
   "metadata": {},
   "outputs": [],
   "source": [
    "# Move training and validation data to device\n",
    "X_train, Y_train = X_train.to(device), Y_train.to(device)\n",
    "X_val = X_val.to(device)"
   ]
  },
  {
   "cell_type": "code",
   "execution_count": 7,
   "metadata": {},
   "outputs": [],
   "source": [
    "# Define Loss & Optimizer\n",
    "criterion = nn.BCELoss()  # Binary Cross-Entropy Loss\n",
    "optimizer = optim.Adam(model.parameters(), lr=0.001)\n",
    "\n",
    "# -------------------------------\n",
    "# Step 3: Train MLP with Batch Mode + Early Stopping\n",
    "# -------------------------------\n",
    "num_epochs = 50\n",
    "patience = 5  # Number of epochs to wait for improvement\n",
    "best_val_loss = float(\"inf\")\n",
    "early_stop_counter = 0\n",
    "\n",
    "train_losses, val_losses = [], []\n",
    "train_accs, val_accs = [], []"
   ]
  },
  {
   "cell_type": "code",
   "execution_count": 10,
   "metadata": {},
   "outputs": [
    {
     "name": "stdout",
     "output_type": "stream",
     "text": [
      "Epoch 1/50: Train Acc = 74.11%, Val Acc = 85.00%\n",
      "Epoch 2/50: Train Acc = 85.11%, Val Acc = 83.00%\n",
      "Epoch 3/50: Train Acc = 87.78%, Val Acc = 85.00%\n",
      "Epoch 4/50: Train Acc = 90.44%, Val Acc = 80.00%\n",
      "Epoch 5/50: Train Acc = 91.11%, Val Acc = 83.00%\n",
      "Epoch 6/50: Train Acc = 94.44%, Val Acc = 86.00%\n",
      "Epoch 7/50: Train Acc = 96.78%, Val Acc = 86.00%\n",
      "Epoch 8/50: Train Acc = 95.00%, Val Acc = 87.00%\n",
      "Epoch 9/50: Train Acc = 97.00%, Val Acc = 86.00%\n",
      "Epoch 10/50: Train Acc = 97.44%, Val Acc = 87.00%\n",
      "Epoch 11/50: Train Acc = 98.89%, Val Acc = 87.00%\n",
      "Epoch 12/50: Train Acc = 98.22%, Val Acc = 87.00%\n",
      "Epoch 13/50: Train Acc = 98.56%, Val Acc = 89.00%\n",
      "Epoch 14/50: Train Acc = 99.89%, Val Acc = 89.00%\n",
      "Epoch 15/50: Train Acc = 100.00%, Val Acc = 91.00%\n",
      "Epoch 16/50: Train Acc = 100.00%, Val Acc = 91.00%\n",
      "Epoch 17/50: Train Acc = 100.00%, Val Acc = 91.00%\n",
      "Epoch 18/50: Train Acc = 100.00%, Val Acc = 91.00%\n",
      "Epoch 19/50: Train Acc = 100.00%, Val Acc = 91.00%\n",
      "Epoch 20/50: Train Acc = 100.00%, Val Acc = 91.00%\n",
      "Epoch 21/50: Train Acc = 100.00%, Val Acc = 91.00%\n",
      "Epoch 22/50: Train Acc = 100.00%, Val Acc = 91.00%\n",
      "Epoch 23/50: Train Acc = 100.00%, Val Acc = 91.00%\n",
      "Epoch 24/50: Train Acc = 100.00%, Val Acc = 91.00%\n",
      "Epoch 25/50: Train Acc = 100.00%, Val Acc = 91.00%\n",
      "Epoch 26/50: Train Acc = 100.00%, Val Acc = 91.00%\n",
      "Epoch 27/50: Train Acc = 100.00%, Val Acc = 91.00%\n",
      "Epoch 28/50: Train Acc = 100.00%, Val Acc = 91.00%\n",
      "Epoch 29/50: Train Acc = 100.00%, Val Acc = 91.00%\n",
      "Epoch 30/50: Train Acc = 100.00%, Val Acc = 91.00%\n",
      "Epoch 31/50: Train Acc = 100.00%, Val Acc = 91.00%\n",
      "Epoch 32/50: Train Acc = 100.00%, Val Acc = 91.00%\n",
      "Epoch 33/50: Train Acc = 100.00%, Val Acc = 91.00%\n",
      "Epoch 34/50: Train Acc = 100.00%, Val Acc = 91.00%\n",
      "Epoch 35/50: Train Acc = 100.00%, Val Acc = 91.00%\n",
      "Epoch 36/50: Train Acc = 100.00%, Val Acc = 91.00%\n",
      "Epoch 37/50: Train Acc = 100.00%, Val Acc = 91.00%\n",
      "Epoch 38/50: Train Acc = 100.00%, Val Acc = 91.00%\n",
      "Epoch 39/50: Train Acc = 100.00%, Val Acc = 91.00%\n",
      "Epoch 40/50: Train Acc = 100.00%, Val Acc = 91.00%\n",
      "Epoch 41/50: Train Acc = 100.00%, Val Acc = 91.00%\n",
      "Epoch 42/50: Train Acc = 100.00%, Val Acc = 91.00%\n",
      "Epoch 43/50: Train Acc = 100.00%, Val Acc = 91.00%\n",
      "Epoch 44/50: Train Acc = 100.00%, Val Acc = 91.00%\n",
      "Epoch 45/50: Train Acc = 100.00%, Val Acc = 91.00%\n",
      "Epoch 46/50: Train Acc = 100.00%, Val Acc = 91.00%\n",
      "Epoch 47/50: Train Acc = 100.00%, Val Acc = 91.00%\n",
      "Epoch 48/50: Train Acc = 100.00%, Val Acc = 91.00%\n",
      "Epoch 49/50: Train Acc = 100.00%, Val Acc = 91.00%\n",
      "Epoch 50/50: Train Acc = 100.00%, Val Acc = 91.00%\n"
     ]
    }
   ],
   "source": [
    "for epoch in range(num_epochs):\n",
    "    model.train()\n",
    "    epoch_loss = 0\n",
    "    correct_train, total_train = 0, 0\n",
    "\n",
    "    for X_batch, Y_batch in train_loader:\n",
    "        X_batch, Y_batch = X_batch.to(device), Y_batch.to(device)  # Move to MPS\n",
    "        optimizer.zero_grad()\n",
    "        Y_pred = model(X_batch)\n",
    "        loss = criterion(Y_pred, Y_batch)\n",
    "        loss.backward()\n",
    "        optimizer.step()\n",
    "        epoch_loss += loss.item()\n",
    "\n",
    "        # Compute training accuracy\n",
    "        predicted = (Y_pred >= 0.5).float()\n",
    "        correct_train += (predicted == Y_batch).sum().item()\n",
    "        total_train += Y_batch.size(0)\n",
    "\n",
    "    train_losses.append(epoch_loss / len(train_loader))\n",
    "    train_accs.append(100 * correct_train / total_train)\n",
    "\n",
    "    # Validation Phase\n",
    "    model.eval()\n",
    "    val_loss = 0\n",
    "    correct_val, total_val = 0, 0\n",
    "\n",
    "    with torch.no_grad():\n",
    "        for X_batch, Y_batch in val_loader:\n",
    "            X_batch, Y_batch = X_batch.to(device), Y_batch.to(device)\n",
    "            Y_pred = model(X_batch)\n",
    "            val_loss += criterion(Y_pred, Y_batch).item()\n",
    "\n",
    "            # Compute validation accuracy\n",
    "            predicted = (Y_pred >= 0.5).float()\n",
    "            correct_val += (predicted == Y_batch).sum().item()\n",
    "            total_val += Y_batch.size(0)\n",
    "\n",
    "    val_losses.append(val_loss / len(val_loader))\n",
    "    val_accs.append(100 * correct_val / total_val)\n",
    "\n",
    "    print(f\"Epoch {epoch+1}/{num_epochs}: Train Acc = {train_accs[-1]:.2f}%, Val Acc = {val_accs[-1]:.2f}%\")"
   ]
  },
  {
   "cell_type": "code",
   "execution_count": 12,
   "metadata": {},
   "outputs": [
    {
     "name": "stdout",
     "output_type": "stream",
     "text": [
      "Final Training Accuracy: 100.00%\n",
      "Final Validation Accuracy: 91.00%\n"
     ]
    },
    {
     "data": {
      "image/png": "[encoded data removed]",
      "text/plain": [
       "<Figure size 800x500 with 1 Axes>"
      ]
     },
     "metadata": {},
     "output_type": "display_data"
    }
   ],
   "source": [
    "# -------------------------------\n",
    "def evaluate_accuracy(loader):\n",
    "    model.eval()\n",
    "    correct = 0\n",
    "    total = 0\n",
    "    with torch.no_grad():\n",
    "        for X_batch, Y_batch in loader:\n",
    "            X_batch, Y_batch = X_batch.to(device), Y_batch.to(device)  # Move to MPS\n",
    "            Y_pred = model(X_batch).round()\n",
    "            correct += (Y_pred == Y_batch).sum().item()\n",
    "            total += Y_batch.size(0)\n",
    "    return 100 * correct / total\n",
    "\n",
    "train_accuracy = evaluate_accuracy(train_loader)\n",
    "val_accuracy = evaluate_accuracy(val_loader)\n",
    "\n",
    "print(f\"Final Training Accuracy: {train_accuracy:.2f}%\")\n",
    "print(f\"Final Validation Accuracy: {val_accuracy:.2f}%\")\n",
    "\n",
    "import matplotlib.pyplot as plt\n",
    "# -------------------------------\n",
    "# Step 4: Plot Accuracy Over Epochs\n",
    "# -------------------------------\n",
    "plt.figure(figsize=(8, 5))\n",
    "plt.plot(range(1, num_epochs + 1), train_accs, label=\"Training Accuracy\", marker='o', color='red')\n",
    "plt.plot(range(1, num_epochs + 1), val_accs, label=\"Validation Accuracy\", marker='s', color='blue')\n",
    "plt.xlabel(\"Epochs\")\n",
    "plt.ylabel(\"Accuracy (%)\")\n",
    "plt.title(\"Training vs Validation Accuracy Over Epochs\")\n",
    "plt.legend()\n",
    "plt.grid()\n",
    "plt.show()"
   ]
  },
  {
   "cell_type": "code",
   "execution_count": 20,
   "metadata": {},
   "outputs": [
    {
     "ename": "AttributeError",
     "evalue": "'MLP' object has no attribute 'predict'",
     "output_type": "error",
     "traceback": [
      "\u001b[0;31m---------------------------------------------------------------------------\u001b[0m",
      "\u001b[0;31mAttributeError\u001b[0m                            Traceback (most recent call last)",
      "Cell \u001b[0;32mIn[20], line 19\u001b[0m\n\u001b[1;32m     17\u001b[0m     \u001b[38;5;28mprint\u001b[39m(\u001b[38;5;124mf\u001b[39m\u001b[38;5;124m\"\u001b[39m\u001b[38;5;124mPrediction for \u001b[39m\u001b[38;5;132;01m{\u001b[39;00mimage_path\u001b[38;5;132;01m}\u001b[39;00m\u001b[38;5;124m: \u001b[39m\u001b[38;5;132;01m{\u001b[39;00mclass_label\u001b[38;5;132;01m}\u001b[39;00m\u001b[38;5;124m\"\u001b[39m)\n\u001b[1;32m     18\u001b[0m \u001b[38;5;66;03m# Test on a sample image (update the path as needed)\u001b[39;00m\n\u001b[0;32m---> 19\u001b[0m \u001b[43mtest_model\u001b[49m\u001b[43m(\u001b[49m\u001b[38;5;124;43mr\u001b[39;49m\u001b[38;5;124;43m\"\u001b[39;49m\u001b[38;5;124;43mdog_test.jpeg\u001b[39;49m\u001b[38;5;124;43m\"\u001b[39;49m\u001b[43m)\u001b[49m\n\u001b[1;32m     20\u001b[0m test_model(\u001b[38;5;124mr\u001b[39m\u001b[38;5;124m\"\u001b[39m\u001b[38;5;124mcar_test.jpg\u001b[39m\u001b[38;5;124m\"\u001b[39m)\n",
      "Cell \u001b[0;32mIn[20], line 14\u001b[0m, in \u001b[0;36mtest_model\u001b[0;34m(image_path)\u001b[0m\n\u001b[1;32m     12\u001b[0m X_test \u001b[38;5;241m=\u001b[39m np\u001b[38;5;241m.\u001b[39marray([img])\n\u001b[1;32m     13\u001b[0m \u001b[38;5;66;03m# Get prediction from the trained perceptron model\u001b[39;00m\n\u001b[0;32m---> 14\u001b[0m prediction \u001b[38;5;241m=\u001b[39m \u001b[43mmodel\u001b[49m\u001b[38;5;241;43m.\u001b[39;49m\u001b[43mpredict\u001b[49m(X_test)\n\u001b[1;32m     15\u001b[0m \u001b[38;5;66;03m# Output the result\u001b[39;00m\n\u001b[1;32m     16\u001b[0m class_label \u001b[38;5;241m=\u001b[39m \u001b[38;5;124m\"\u001b[39m\u001b[38;5;124mDog\u001b[39m\u001b[38;5;124m\"\u001b[39m \u001b[38;5;28;01mif\u001b[39;00m prediction[\u001b[38;5;241m0\u001b[39m] \u001b[38;5;241m==\u001b[39m \u001b[38;5;241m1\u001b[39m \u001b[38;5;28;01melse\u001b[39;00m \u001b[38;5;124m\"\u001b[39m\u001b[38;5;124mAutomobile\u001b[39m\u001b[38;5;124m\"\u001b[39m\n",
      "File \u001b[0;32m~/Library/Python/3.9/lib/python/site-packages/torch/nn/modules/module.py:1931\u001b[0m, in \u001b[0;36mModule.__getattr__\u001b[0;34m(self, name)\u001b[0m\n\u001b[1;32m   1929\u001b[0m     \u001b[38;5;28;01mif\u001b[39;00m name \u001b[38;5;129;01min\u001b[39;00m modules:\n\u001b[1;32m   1930\u001b[0m         \u001b[38;5;28;01mreturn\u001b[39;00m modules[name]\n\u001b[0;32m-> 1931\u001b[0m \u001b[38;5;28;01mraise\u001b[39;00m \u001b[38;5;167;01mAttributeError\u001b[39;00m(\n\u001b[1;32m   1932\u001b[0m     \u001b[38;5;124mf\u001b[39m\u001b[38;5;124m\"\u001b[39m\u001b[38;5;124m'\u001b[39m\u001b[38;5;132;01m{\u001b[39;00m\u001b[38;5;28mtype\u001b[39m(\u001b[38;5;28mself\u001b[39m)\u001b[38;5;241m.\u001b[39m\u001b[38;5;18m__name__\u001b[39m\u001b[38;5;132;01m}\u001b[39;00m\u001b[38;5;124m'\u001b[39m\u001b[38;5;124m object has no attribute \u001b[39m\u001b[38;5;124m'\u001b[39m\u001b[38;5;132;01m{\u001b[39;00mname\u001b[38;5;132;01m}\u001b[39;00m\u001b[38;5;124m'\u001b[39m\u001b[38;5;124m\"\u001b[39m\n\u001b[1;32m   1933\u001b[0m )\n",
      "\u001b[0;31mAttributeError\u001b[0m: 'MLP' object has no attribute 'predict'"
     ]
    }
   ],
   "source": [
    "def test_model(image_path):\n",
    "    # Load image in grayscale\n",
    "    img = cv2.imread(image_path, cv2.IMREAD_GRAYSCALE)\n",
    "    if img is None:\n",
    "        print(f\"Image not found at {image_path}\")\n",
    "        return\n",
    "    # Resize image to 32x32\n",
    "    img = cv2.resize(img, (32, 32))\n",
    "    # Preprocess: flatten and normalize\n",
    "    img = img.flatten() / 255.0\n",
    "    # Create input batch of shape (1, 1024)\n",
    "    X_test = np.array([img])\n",
    "    # Get prediction from the trained perceptron model\n",
    "    prediction = model.predict(X_test)\n",
    "    # Output the result\n",
    "    class_label = \"Dog\" if prediction[0] == 1 else \"Automobile\"\n",
    "    print(f\"Prediction for {image_path}: {class_label}\")\n",
    "# Test on a sample image (update the path as needed)\n",
    "test_model(r\"dog_test.jpeg\")\n",
    "test_model(r\"car_test.jpg\")"
   ]
  },
  {
   "cell_type": "code",
   "execution_count": null,
   "metadata": {},
   "outputs": [],
   "source": []
  }
 ],
 "metadata": {
  "kernelspec": {
   "display_name": "Python 3",
   "language": "python",
   "name": "python3"
  },
  "language_info": {
   "codemirror_mode": {
    "name": "ipython",
    "version": 3
   },
   "file_extension": ".py",
   "mimetype": "text/x-python",
   "name": "python",
   "nbconvert_exporter": "python",
   "pygments_lexer": "ipython3",
   "version": "3.9.6"
  }
 },
 "nbformat": 4,
 "nbformat_minor": 2
}
